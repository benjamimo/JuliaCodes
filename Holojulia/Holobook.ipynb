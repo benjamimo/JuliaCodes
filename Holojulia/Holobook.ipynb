{
 "cells": [
  {
   "cell_type": "markdown",
   "metadata": {},
   "source": [
    "# Hologram manipulation\n",
    "\n",
    "This notebook is intended to control a Spatial Light Modulator (SLM) in the Julia language.  It is compatible with the PLUTO VIS SLM (Holoeye $1920\\times1080$ pixels), but can be easily adapted by changing the resolution (Ux, Uy, Hsize and Vsize) to any other phase--only SLM.\n",
    "\n",
    "Requisites:\n",
    "- Julia 1.0+\n",
    "- Images package\n",
    "- Holofuns.jl, Beams.jl and Holomember.jl\n",
    "- screen\n",
    "- geeqie\n",
    "- vlc"
   ]
  },
  {
   "cell_type": "markdown",
   "metadata": {},
   "source": [
    "## Load packages\n",
    "First, lets load some useful libraries for the hologram creation"
   ]
  },
  {
   "cell_type": "code",
   "execution_count": 3,
   "metadata": {},
   "outputs": [],
   "source": [
    "using Images\n",
    "using Plots\n",
    "include(\"/mnt/bendata/Documents/Docs/PhysicsLocal/HoloJulia/Holofuns.jl\")\n",
    "include(\"/mnt/bendata/Documents/Docs/PhysicsLocal/HoloJulia/Holomember.jl\");  # this also loads beams.jl and MatrixTrans.jl"
   ]
  },
  {
   "cell_type": "markdown",
   "metadata": {},
   "source": [
    "Lets define the numerical grid, considering the physical aspects of the Spatial Light Modulator"
   ]
  },
  {
   "cell_type": "code",
   "execution_count": 4,
   "metadata": {},
   "outputs": [],
   "source": [
    "# SPATIAL SCALE\n",
    "Ux=15.36E-3\n",
    "Uy=8.64E-3\n",
    "Hsize=div(1920,1); #1920 1440\n",
    "Vsize=div(1080,1); #1080 900\n",
    " \n",
    "# Generates ranges for xs and ys\n",
    "ys = Ux*(2/Hsize)*collect(range(-Hsize/2,length=Hsize,stop=Hsize/2-1))\n",
    "xs = Uy*(2/Vsize)*collect(range(-Vsize/2,length=Vsize,stop=Vsize/2-1))\n",
    "\n",
    "# Coordinates\n",
    "mx, ny = length(xs), length(ys)\n",
    "Ys = reshape(xs, mx, 1)\n",
    "Xs = reshape(ys, 1, ny);"
   ]
  },
  {
   "cell_type": "markdown",
   "metadata": {},
   "source": [
    "## Beams\n",
    "### Laguerre-Gaussian"
   ]
  },
  {
   "cell_type": "code",
   "execution_count": 11,
   "metadata": {},
   "outputs": [
    {
     "name": "stdout",
     "output_type": "stream",
     "text": [
      "  0.166687 seconds (31 allocations: 31.641 MiB, 0.63% gc time)\n"
     ]
    }
   ],
   "source": [
    "w0 = 2E-3\n",
    "l = 1\n",
    "p = 0\n",
    "phi0 = 0.0\n",
    "@time U = LaguerreGaussBeam.(Xs, Ys, w0, phi0, l, p);"
   ]
  },
  {
   "cell_type": "markdown",
   "metadata": {},
   "source": [
    "### Hermite-Gaussian"
   ]
  },
  {
   "cell_type": "code",
   "execution_count": 409,
   "metadata": {
    "scrolled": true
   },
   "outputs": [
    {
     "name": "stdout",
     "output_type": "stream",
     "text": [
      "  0.259786 seconds (31 allocations: 31.641 MiB, 0.73% gc time)\n"
     ]
    }
   ],
   "source": [
    "w0 = 2E-3\n",
    "m = 2\n",
    "n = 2\n",
    "phi0 = 0.0\n",
    "@time U = HermiteGaussBeam.(Xs, Ys, w0, phi0, m, n);"
   ]
  },
  {
   "cell_type": "markdown",
   "metadata": {},
   "source": [
    "### Ince-Gaussian"
   ]
  },
  {
   "cell_type": "code",
   "execution_count": 151,
   "metadata": {},
   "outputs": [],
   "source": [
    "# Ince-Gaussian parameters\n",
    "p = 6    # x-direction\n",
    "m = 4    # y-direction\n",
    "q = 1.5\n",
    "kind = 2\n",
    "phi0 = 0.0\n",
    "\n",
    "# Pre-calculates Ince coefficients\n",
    "if kind == 0\n",
    "    Cs = CInceCoef(p,m,q)\n",
    "elseif kind == 1\n",
    "    Ss = SInceCoef(p,m,q)\n",
    "else\n",
    "    Cs = CInceCoef(p,m,q)\n",
    "    Ss = SInceCoef(p,m,q)\n",
    "end\n",
    "\n",
    "if kind == 0 # IG even\n",
    "    IGE = IGBeamE.(Xs, Ys , w0, phi0, p, m, q, (Cs,))\n",
    "    #NormN = IGE[abs2.(IGE).==maximum(abs2.(IGE))]\n",
    "    #NormP = IGE[angle.(IGE).==maximum(angle.(IGE))]\n",
    "    V = IGE\n",
    "\n",
    "elseif kind == 1 # IG odd\n",
    "    IGO = IGBeamO.(Xs, Ys , w0, phi0, p, m, q, (Ss,))\n",
    "    #NormN = IGO[abs2.(IGO).==maximum(abs2.(IGO))]\n",
    "    #NormP = IGE[angle.(IGE).==maximum(angle.(IGE))]\n",
    "    V = IGO\n",
    "\n",
    "else # kind == 2 # IG helical\n",
    "    IGE = IGBeamE.(Xs, Ys , w0, phi0, p, m, q, (Cs,))\n",
    "    NormE = IGE[abs2.(IGE).==maximum(abs2.(IGE))]\n",
    "    IGE = IGE/NormE[1]\n",
    "    IGO = IGBeamO.(Xs, Ys , w0, phi0, p, m, q, (Ss,))\n",
    "    NormO = IGO[abs2.(IGO).==maximum(abs2.(IGO))]\n",
    "    IGO = IGO/NormO[1]\n",
    "    V = IGE+im*IGO\n",
    "    #Norm = Uaux[abs2.(Uaux).==maximum(abs2.(Uaux))]\n",
    "    #Uaux = Uaux/Norm[1]\n",
    "end;"
   ]
  },
  {
   "cell_type": "markdown",
   "metadata": {},
   "source": [
    "## Hologram creation (static)\n",
    "With the generated field in the previous section, we will create the hologram and display it in the SLM screen"
   ]
  },
  {
   "cell_type": "code",
   "execution_count": 12,
   "metadata": {},
   "outputs": [
    {
     "name": "stderr",
     "output_type": "stream",
     "text": [
      "┌ Info: Recompiling stale cache file /home/ben/.julia/compiled/v1.0/ImageMagick/0LbNX.ji for ImageMagick [6218d12a-5da1-5696-b52f-db25d2ecc6d1]\n",
      "└ @ Base loading.jl:1190\n"
     ]
    }
   ],
   "source": [
    "# Hologram parameters\n",
    "lines = 150   # amount of lines in the whole screen\n",
    "alf = 0\n",
    "\n",
    "# Hologram creation\n",
    "Hologram = HoloCrea(U, lines, alf)\n",
    "\n",
    "# Position of the hologram -- depends on the screen resolution of the user display\n",
    "screenX=div(1600,1)\n",
    "screenY=1\n",
    "dirname = \"/mnt/bendata/Documents/Docs/PhysicsLocal/HoloJulia/tmp\"\n",
    "save(\"$dirname/tmp.png\", colorview(Gray, Hologram))\n",
    "\n",
    "# Command line code\n",
    "# run(`screen -d -m geeqie`)   # dirty!!!\n",
    "# run(`killall geeqie`)        # dirty!!!\n",
    "run(`screen -d -m geeqie --geometry=$(Hsize)x$(Vsize)+$(screenX)+$(screenY) -f $dirname/tmp.png`);"
   ]
  },
  {
   "cell_type": "markdown",
   "metadata": {},
   "source": [
    "## Partially coherent beams\n",
    "In this section we will generate holograms to simulate a partially coherent structured beam.  Our description of a spatially partially coherent source can be seen as the averaging process of randomly located beams within a circular region.  The size of the circular region is related to the spatial coherence of the source.\n",
    "\n",
    "We can use the funcion the functions\n",
    "- memberPCLG - Laguerre-Gaussian\n",
    "- memberPCLGmt - Laguerre-Gaussian (with multithreading support)\n",
    "- memberPCHG - Hermite-Gaussian\n",
    "- memberPCHGmt - Hermite-Gaussian (with multithreading support)\n",
    "- memberPCIG - Ince-Gaussian\n",
    "- memberPCIGmt - Ince-Gaussian (with multithreading support)\n",
    "\n",
    "Note that the multithreading support in Julia is still experimental and might do some weird stuff."
   ]
  },
  {
   "cell_type": "code",
   "execution_count": 24,
   "metadata": {},
   "outputs": [
    {
     "data": {
      "text/plain": [
       "ensemblePC (generic function with 1 method)"
      ]
     },
     "execution_count": 24,
     "metadata": {},
     "output_type": "execute_result"
    }
   ],
   "source": [
    "function ensemblePC(Useed, Vsize, Hsize, circle, N, Ne, lines, alf, dirname, filename)\n",
    "    \n",
    "    # Generates the desired holograms according to the given parameters\n",
    "    for memberE = 1:Ne\n",
    "        # Computes the field of one member\n",
    "        Upc = memberPCmt(Useed, Vsize, Hsize, circle, N)\n",
    "\n",
    "        # Hologram creation\n",
    "        Hologram = HoloCrea(Upc, lines, alf)\n",
    "        save(\"$dirname/$(filename)-$(lpad(memberE,3,'0')).png\", colorview(Gray, Hologram))\n",
    "    end\n",
    "    \n",
    "end"
   ]
  },
  {
   "cell_type": "markdown",
   "metadata": {},
   "source": [
    "### Partially coherent Laguerre--Gaussian"
   ]
  },
  {
   "cell_type": "markdown",
   "metadata": {},
   "source": [
    "First, lets define the beam parameters and the seed beam to generate its partially coherent version"
   ]
  },
  {
   "cell_type": "code",
   "execution_count": 21,
   "metadata": {},
   "outputs": [],
   "source": [
    "# Beam parameters\n",
    "w0 = 2E-3\n",
    "l = 1\n",
    "p = 0\n",
    "\n",
    "# Seed beam\n",
    "Useed = LaguerreGaussBeam.(Xs, Ys, w0, 0.0, l, p);"
   ]
  },
  {
   "cell_type": "code",
   "execution_count": 27,
   "metadata": {},
   "outputs": [
    {
     "name": "stdout",
     "output_type": "stream",
     "text": [
      "  9.515536 seconds (4.09 k allocations: 33.119 GiB, 19.55% gc time)\n"
     ]
    }
   ],
   "source": [
    "# Statistical parameters\n",
    "circle = w0 * 0.9\n",
    "N = 100\n",
    "Ne = 2\n",
    "\n",
    "# Hologram parameters\n",
    "lines = 100   # amount of lines in the whole screen\n",
    "alf = 0\n",
    "dirnameLG = \"/mnt/bendata/Documents/Docs/PhysicsLocal/HoloJulia/tmp/pc/LG\"\n",
    "filenameLG = \"LG-$(l)$(p)-$(circle/w0)\"\n",
    "\n",
    "@time ensemblePC(Useed, Vsize, Hsize, circle, N, Ne, lines, alf, dirnameLG, filenameLG)"
   ]
  },
  {
   "cell_type": "markdown",
   "metadata": {},
   "source": [
    "### Partially coherent Hermite--Gaussian"
   ]
  },
  {
   "cell_type": "code",
   "execution_count": 53,
   "metadata": {},
   "outputs": [],
   "source": [
    "# Beam parameters\n",
    "w0 = 2E-3\n",
    "m = 2\n",
    "n = 4\n",
    "Useed = HermiteGaussBeam.(Xs, Ys, w0, 0.0, m, n);"
   ]
  },
  {
   "cell_type": "code",
   "execution_count": 54,
   "metadata": {
    "scrolled": true
   },
   "outputs": [
    {
     "name": "stdout",
     "output_type": "stream",
     "text": [
      "577.098496 seconds (216.04 k allocations: 1.940 TiB, 22.22% gc time)\n"
     ]
    }
   ],
   "source": [
    "# Statistical parameters\n",
    "circle = w0 * 0.9\n",
    "N = 200\n",
    "Ne = 60\n",
    "\n",
    "# Hologram parameters\n",
    "lines = 100   # amount of lines in the whole screen\n",
    "alf = 0\n",
    "dirnameHG = \"/mnt/bendata/Documents/Docs/PhysicsLocal/HoloJulia/tmp/pc/HG\"\n",
    "filenameHG = \"HG-$(m)$(n)-$(circle/w0)\"\n",
    "\n",
    "# Hologram creation per member\n",
    "@time ensemblePC(Useed, Vsize, Hsize, circle, N, Ne, lines, alf, dirnameHG, filenameHG)"
   ]
  },
  {
   "cell_type": "markdown",
   "metadata": {},
   "source": [
    "### Partially coherent Ince--Gaussian"
   ]
  },
  {
   "cell_type": "code",
   "execution_count": 56,
   "metadata": {},
   "outputs": [],
   "source": [
    "# Beam parameters\n",
    "w0 = 2E-3\n",
    "p = 3\n",
    "m = 3\n",
    "q = 1.5\n",
    "kind = 0\n",
    "\n",
    "# Pre-calculates Ince coefficients\n",
    "if kind == 0\n",
    "    Cs = CInceCoef(p,m,q)\n",
    "elseif kind == 1\n",
    "    Ss = SInceCoef(p,m,q)\n",
    "else\n",
    "    Cs = CInceCoef(p,m,q)\n",
    "    Ss = SInceCoef(p,m,q)\n",
    "end\n",
    "\n",
    "# Seed beam!  IG beams are funny!  @_@\n",
    "if kind == 0 # IG even\n",
    "    IGE = IGBeamE.(Xs, Ys, w0, 0.0, p, m, q, (Cs,))\n",
    "    #NormN = IGE[abs2.(IGE).==maximum(abs2.(IGE))]\n",
    "    #NormP = IGE[angle.(IGE).==maximum(angle.(IGE))]\n",
    "    Useed = IGE\n",
    "\n",
    "elseif kind == 1 # IG odd\n",
    "    IGO = IGBeamO.(Xs, Ys, w0, 0.0, p, m, q, (Ss,))\n",
    "    #NormN = IGO[abs2.(IGO).==maximum(abs2.(IGO))]\n",
    "    #NormP = IGE[angle.(IGE).==maximum(angle.(IGE))]\n",
    "    Useed = IGO\n",
    "\n",
    "else # kind == 2 # IG helical\n",
    "    IGE = IGBeamE.(Xs, Ys, w0, 0.0, p, m, q, (Cs,))\n",
    "    NormE = IGE[abs2.(IGE).==maximum(abs2.(IGE))]\n",
    "    IGE = IGE/NormE[1]\n",
    "    IGO = IGBeamO.(Xs, Ys, w0, 0.0, p, m, q, (Ss,))\n",
    "    NormO = IGO[abs2.(IGO).==maximum(abs2.(IGO))]\n",
    "    IGO = IGO/NormO[1]\n",
    "    Useed = IGE+im*IGO\n",
    "    #Norm = Uaux[abs2.(Useed).==maximum(abs2.(Useed))]\n",
    "    #Useed = Uaux/Norm[1]\n",
    "end;"
   ]
  },
  {
   "cell_type": "code",
   "execution_count": 57,
   "metadata": {},
   "outputs": [
    {
     "name": "stdout",
     "output_type": "stream",
     "text": [
      "1672.998978 seconds (647.67 k allocations: 5.815 TiB, 22.33% gc time)\n"
     ]
    }
   ],
   "source": [
    "# Statistical parameters\n",
    "circle = w0 * 0.9\n",
    "N = 200\n",
    "Ne = 180\n",
    "\n",
    "# Hologram parameters\n",
    "lines = 100   # amount of lines in the whole screen\n",
    "alf = 0\n",
    "dirnameIG = \"/mnt/bendata/Documents/Docs/PhysicsLocal/HoloJulia/tmp/pc/IG\"\n",
    "filenameIG = \"IG-$(p)$(m)$(q)-$(kind)-$(circle/w0)\"\n",
    "\n",
    "@time ensemblePC(Useed, Vsize, Hsize, circle, N, Ne, lines, alf, dirnameIG, filenameIG)"
   ]
  },
  {
   "cell_type": "markdown",
   "metadata": {},
   "source": [
    "## Hologram creation (dynamic)\n",
    "\n",
    "With the created holograms from the previous section, we generate a video (dynamic hologram) and then we display it in the SLM "
   ]
  },
  {
   "cell_type": "code",
   "execution_count": 58,
   "metadata": {},
   "outputs": [
    {
     "name": "stderr",
     "output_type": "stream",
     "text": [
      "ffmpeg version n4.1 Copyright (c) 2000-2018 the FFmpeg developers\n",
      "  built with gcc 8.2.1 (GCC) 20180831\n",
      "  configuration: --prefix=/usr --disable-debug --disable-static --disable-stripping --enable-fontconfig --enable-gmp --enable-gnutls --enable-gpl --enable-ladspa --enable-libaom --enable-libass --enable-libbluray --enable-libdrm --enable-libfreetype --enable-libfribidi --enable-libgsm --enable-libiec61883 --enable-libjack --enable-libmodplug --enable-libmp3lame --enable-libopencore_amrnb --enable-libopencore_amrwb --enable-libopenjpeg --enable-libopus --enable-libpulse --enable-libsoxr --enable-libspeex --enable-libssh --enable-libtheora --enable-libv4l2 --enable-libvidstab --enable-libvorbis --enable-libvpx --enable-libwebp --enable-libx264 --enable-libx265 --enable-libxcb --enable-libxml2 --enable-libxvid --enable-nvdec --enable-nvenc --enable-omx --enable-shared --enable-version3\n",
      "  libavutil      56. 22.100 / 56. 22.100\n",
      "  libavcodec     58. 35.100 / 58. 35.100\n",
      "  libavformat    58. 20.100 / 58. 20.100\n",
      "  libavdevice    58.  5.100 / 58.  5.100\n",
      "  libavfilter     7. 40.101 /  7. 40.101\n",
      "  libswscale      5.  3.100 /  5.  3.100\n",
      "  libswresample   3.  3.100 /  3.  3.100\n",
      "  libpostproc    55.  3.100 / 55.  3.100\n",
      "Input #0, image2, from '/mnt/bendata/Documents/Docs/PhysicsLocal/HoloJulia/tmp/pc/IG/IG-331.5-0-0.9-%03d.png':\n",
      "  Duration: 00:00:12.00, start: 0.000000, bitrate: N/A\n",
      "    Stream #0:0: Video: png, gray(pc), 1920x1080, 15 fps, 15 tbr, 15 tbn, 15 tbc\n",
      "Stream mapping:\n",
      "  Stream #0:0 -> #0:0 (png (native) -> h264 (libx264))\n",
      "Press [q] to stop, [?] for help\n",
      "[libx264 @ 0x5587855bdd00] using cpu capabilities: MMX2 SSE2Fast SSSE3 SSE4.2 AVX FMA3 BMI2 AVX2\n",
      "[libx264 @ 0x5587855bdd00] profile High 4:4:4 Predictive, level 4.0, 4:2:0 8-bit\n",
      "[libx264 @ 0x5587855bdd00] 264 - core 155 r2917 0a84d98 - H.264/MPEG-4 AVC codec - Copyleft 2003-2018 - http://www.videolan.org/x264.html - options: cabac=1 ref=3 deblock=1:0:0 analyse=0x1:0x111 me=hex subme=7 psy=0 mixed_ref=1 me_range=16 chroma_me=1 trellis=0 8x8dct=1 cqm=0 deadzone=21,11 fast_pskip=0 chroma_qp_offset=0 threads=12 lookahead_threads=2 sliced_threads=0 nr=0 decimate=1 interlaced=0 bluray_compat=0 constrained_intra=0 bframes=0 weightp=2 keyint=250 keyint_min=15 scenecut=40 intra_refresh=0 rc=cqp mbtree=0 qp=0\n",
      "Output #0, mp4, to '/mnt/bendata/Documents/Docs/PhysicsLocal/HoloJulia/tmp/pc/IG/IG-331.5-0-0.9-200-180.mp4':\n",
      "  Metadata:\n",
      "    encoder         : Lavf58.20.100\n",
      "    Stream #0:0: Video: h264 (libx264) (avc1 / 0x31637661), yuv420p, 1920x1080, q=-1--1, 15 fps, 15360 tbn, 15 tbc\n",
      "    Metadata:\n",
      "      encoder         : Lavc58.35.100 libx264\n",
      "    Side data:\n",
      "      cpb: bitrate max/min/avg: 0/0/0 buffer size: 0 vbv_delay: -1\n",
      "frame=  180 fps= 65 q=-1.0 Lsize=    8226kB time=00:00:11.93 bitrate=5647.2kbits/s speed=4.28x    \n",
      "video:8225kB audio:0kB subtitle:0kB other streams:0kB global headers:0kB muxing overhead: 0.019900%\n",
      "[libx264 @ 0x5587855bdd00] frame I:36    Avg QP: 0.00  size: 47057\n",
      "[libx264 @ 0x5587855bdd00] frame P:144   Avg QP: 0.00  size: 46719\n",
      "[libx264 @ 0x5587855bdd00] mb I  I16..4: 100.0%  0.0%  0.0%\n",
      "[libx264 @ 0x5587855bdd00] mb P  I16..4: 34.0%  0.0%  0.2%  P16..4:  0.0%  0.0%  0.0%  0.0%  0.0%    skip:65.8%\n",
      "[libx264 @ 0x5587855bdd00] 8x8 transform intra:0.0% inter:5.0%\n",
      "[libx264 @ 0x5587855bdd00] coded y,uvDC,uvAC intra: 64.5% 0.0% 0.0% inter: 0.1% 0.0% 0.0%\n",
      "[libx264 @ 0x5587855bdd00] i16 v,h,dc,p: 99%  0%  1%  0%\n",
      "[libx264 @ 0x5587855bdd00] i4 v,h,dc,ddl,ddr,vr,hd,vl,hu: 90%  2%  1%  0%  1%  3%  0%  1%  0%\n",
      "[libx264 @ 0x5587855bdd00] i8c dc,h,v,p: 100%  0%  0%  0%\n",
      "[libx264 @ 0x5587855bdd00] Weighted P-Frames: Y:72.9% UV:0.0%\n",
      "[libx264 @ 0x5587855bdd00] ref P L0: 57.9%  1.6% 14.3% 17.0%  9.2%\n",
      "[libx264 @ 0x5587855bdd00] kb/s:5614.36\n"
     ]
    },
    {
     "data": {
      "text/plain": [
       "Process(`\u001b[4mscreen\u001b[24m \u001b[4m-d\u001b[24m \u001b[4m-m\u001b[24m \u001b[4mmplayer\u001b[24m \u001b[4m-vo\u001b[24m \u001b[4mx11\u001b[24m \u001b[4m-geometry\u001b[24m \u001b[4m1600\u001b[24m \u001b[4m-zoom\u001b[24m \u001b[4m-fs\u001b[24m \u001b[4m-loop\u001b[24m \u001b[4m0\u001b[24m \u001b[4m/mnt/bendata/Documents/Docs/PhysicsLocal/HoloJulia/tmp/pc/IG/IG-331.5-0-0.9-200-180.mp4\u001b[24m`, ProcessExited(0))"
      ]
     },
     "execution_count": 58,
     "metadata": {},
     "output_type": "execute_result"
    }
   ],
   "source": [
    "# Position of the hologram -- depends on the screen resolution of the user display\n",
    "screenX = div(1600,1)\n",
    "screenY = 1\n",
    "\n",
    "# Code to generate video and run it in VLC\\\n",
    "BM = \"IG\"\n",
    "if BM == \"LG\"\n",
    "    run(`ffmpeg -framerate 60 -i $dirnameLG/LG-$(l)$(p)-$(circle/w0)-%03d.png -c:v libx264 -pix_fmt yuv420p -qp 0 $dirnameLG/LG-$(l)$(p)-$(circle/w0)-$(N)-$(Ne).mp4`);\n",
    "    run(`screen -d -m mplayer -vo x11 -geometry $(screenX) -zoom -fs -loop 0 $dirnameLG/LG-$(l)$(p)-$(circle/w0)-$(N)-$(Ne).mp4`)\n",
    "    \n",
    "elseif BM == \"HG\"\n",
    "    run(`ffmpeg -framerate 60 -i $dirnameHG/HG-$(m)$(n)-$(circle/w0)-%03d.png -c:v libx264 -pix_fmt yuv420p -qp 0 $dirnameHG/HG-$(m)$(n)-$(circle/w0)-$(N)-$(Ne).mp4`);\n",
    "    run(`screen -d -m mplayer -vo x11 -geometry $(screenX) -zoom -fs -loop 0 $dirnameHG/HG-$(m)$(n)-$(circle/w0)-$(N)-$(Ne).mp4`)\n",
    "    \n",
    "else\n",
    "    run(`ffmpeg -framerate 15 -i $dirnameIG/IG-$(p)$(m)$(q)-$(kind)-$(circle/w0)-%03d.png -c:v libx264 -pix_fmt yuv420p -qp 0 $dirnameIG/IG-$(p)$(m)$(q)-$(kind)-$(circle/w0)-$(N)-$(Ne).mp4`);\n",
    "    run(`screen -d -m mplayer -vo x11 -geometry $(screenX) -zoom -fs -loop 0 $dirnameIG/IG-$(p)$(m)$(q)-$(kind)-$(circle/w0)-$(N)-$(Ne).mp4`)\n",
    "end"
   ]
  },
  {
   "cell_type": "code",
   "execution_count": 31,
   "metadata": {},
   "outputs": [
    {
     "data": {
      "text/plain": [
       "4"
      ]
     },
     "execution_count": 31,
     "metadata": {},
     "output_type": "execute_result"
    }
   ],
   "source": [
    "Threads.nthreads()"
   ]
  },
  {
   "cell_type": "code",
   "execution_count": null,
   "metadata": {},
   "outputs": [],
   "source": []
  }
 ],
 "metadata": {
  "@webio": {
   "lastCommId": "69c3e64a250a4c7c99e7034288158e31",
   "lastKernelId": "cde1a103-82e2-4502-9cd9-dd5ad8723db0"
  },
  "kernelspec": {
   "display_name": "Julia 1.0.2",
   "language": "julia",
   "name": "julia-1.0"
  },
  "language_info": {
   "file_extension": ".jl",
   "mimetype": "application/julia",
   "name": "julia",
   "version": "1.0.2"
  }
 },
 "nbformat": 4,
 "nbformat_minor": 2
}
